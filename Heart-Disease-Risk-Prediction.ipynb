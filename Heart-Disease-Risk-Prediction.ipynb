{
 "cells": [
  {
   "cell_type": "code",
   "execution_count": null,
   "id": "bfef3316-ab0d-4102-a8a6-c815637ac4b5",
   "metadata": {},
   "outputs": [],
   "source": [
    "# Import Libraries"
   ]
  },
  {
   "cell_type": "code",
   "execution_count": null,
   "id": "c74e8f29-52e3-4718-bf41-068b4b71a155",
   "metadata": {},
   "outputs": [],
   "source": [
    "import os\n",
    "from pathlib import Path\n",
    "import warnings\n",
    "warnings.filterwarnings('ignore')\n",
    "import numpy as np\n",
    "import pandas as pd\n",
    "import matplotlib.pyplot as plt\n",
    "import seaborn as sns\n",
    "sns.set(style='whitegrid')\n",
    "\n",
    "# Preprocessing & modeling\n",
    "from sklearn.model_selection import train_test_split, StratifiedKFold\n",
    "from sklearn.impute import SimpleImputer\n",
    "from sklearn.experimental import enable_iterative_imputer\n",
    "from sklearn.impute import IterativeImputer\n",
    "from sklearn.pipeline import Pipeline\n",
    "from sklearn.compose import ColumnTransformer\n",
    "from sklearn.preprocessing import StandardScaler, OneHotEncoder\n",
    "from sklearn.calibration import CalibratedClassifierCV\n",
    "from sklearn.metrics import roc_auc_score, accuracy_score, precision_score, recall_score, f1_score, brier_score_loss\n",
    "from sklearn.linear_model import LogisticRegression\n",
    "from sklearn.ensemble import RandomForestClassifier, IsolationForest\n",
    "import xgboost as xgb\n",
    "import lightgbm as lgb\n",
    "from imblearn.over_sampling import SMOTE\n",
    "from imblearn.pipeline import Pipeline as ImbPipeline\n",
    "import joblib\n",
    "\n",
    "# Unsupervised & explainability\n",
    "from sklearn.decomposition import PCA\n",
    "from sklearn.cluster import KMeans, AgglomerativeClustering\n",
    "import umap\n",
    "import shap\n",
    "\n",
    "# Deep learning autoencoder\n",
    "import tensorflow as tf\n",
    "from tensorflow import keras\n",
    "from tensorflow.keras import layers\n",
    "\n",
    "# Paths\n",
    "PROJECT_DIR = Path('.')\n",
    "DATA_DIR = PROJECT_DIR / 'data'\n",
    "MODEL_DIR = PROJECT_DIR / 'models' / 'save'\n",
    "DATA_DIR.mkdir(parents=True, exist_ok=True)\n",
    "MODEL_DIR.mkdir(parents=True, exist_ok=True)\n",
    "print('Model dir:', MODEL_DIR.resolve())"
   ]
  },
  {
   "cell_type": "code",
   "execution_count": null,
   "id": "1ec37da1-b39d-4a9b-8746-fa2595eecdfc",
   "metadata": {},
   "outputs": [],
   "source": [
    "# Load dataset"
   ]
  },
  {
   "cell_type": "code",
   "execution_count": null,
   "id": "689fb17a-d13d-44bc-a011-82f14f857f3f",
   "metadata": {},
   "outputs": [],
   "source": [
    "possible_files = ['framingham.csv', 'Framingham.csv', 'framingham_heart.csv', 'framingham_heart_study.csv']\n",
    "for f in possible_files:\n",
    "p = DATA_DIR / f\n",
    "if p.exists():\n",
    "df = pd.read_csv(p)\n",
    "print(f'Loaded {p.name} — shape:', df.shape)\n",
    "break\n",
    "else:\n",
    "raise FileNotFoundError(f\"No framingham csv found in {DATA_DIR}. Place the dataset file there with one of names: {possible_files}\")\n",
    "\n",
    "# quick overview\n",
    "print(df.columns.tolist())\n",
    "df.head()"
   ]
  },
  {
   "cell_type": "code",
   "execution_count": null,
   "id": "efe5da9f-b451-43f3-8bf9-1d414732850a",
   "metadata": {},
   "outputs": [],
   "source": [
    "print('Shape:', df.shape)\n",
    "print('\n",
    "Missing values per column:')\n",
    "print(df.isnull().sum())\n",
    "print('\n",
    "Target distribution:')\n",
    "print(df['TenYearCHD'].value_counts())"
   ]
  },
  {
   "cell_type": "code",
   "execution_count": null,
   "id": "ffb4a57f-45cb-41cf-a429-9033246b25d0",
   "metadata": {},
   "outputs": [],
   "source": [
    "# Feature engineering function"
   ]
  },
  {
   "cell_type": "code",
   "execution_count": null,
   "id": "99312013-436d-4fb8-b0a0-8d5658b8f362",
   "metadata": {},
   "outputs": [],
   "source": [
    "def engineer_features(df_in):\n",
    "df = df_in.copy()\n",
    "# pulse pressure\n",
    "if 'sysBP' in df.columns and 'diaBP' in df.columns:\n",
    "df['pulse_pressure'] = df['sysBP'] - df['diaBP']\n",
    "# BMI category\n",
    "if 'BMI' in df.columns:\n",
    "df['bmi_cat'] = pd.cut(df['BMI'], bins=[0,18.5,25,30,200], labels=['underweight','normal','overweight','obese'])\n",
    "# age decade\n",
    "if 'age' in df.columns:\n",
    "df['age_decade'] = (df['age']//10)*10\n",
    "# pack proxy\n",
    "if 'cigsPerDay' in df.columns:\n",
    "df['pack_proxy'] = df['cigsPerDay'] * df.get('smokingYears', 1)\n",
    "# Cast categories\n",
    "for c in ['bmi_cat','age_decade']:\n",
    "if c in df.columns:\n",
    "df[c] = df[c].astype('category')\n",
    "return df"
   ]
  }
 ],
 "metadata": {
  "kernelspec": {
   "display_name": "Python [conda env:base] *",
   "language": "python",
   "name": "conda-base-py"
  },
  "language_info": {
   "codemirror_mode": {
    "name": "ipython",
    "version": 3
   },
   "file_extension": ".py",
   "mimetype": "text/x-python",
   "name": "python",
   "nbconvert_exporter": "python",
   "pygments_lexer": "ipython3",
   "version": "3.12.7"
  }
 },
 "nbformat": 4,
 "nbformat_minor": 5
}
