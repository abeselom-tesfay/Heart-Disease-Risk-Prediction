{
 "cells": [
  {
   "cell_type": "code",
   "execution_count": null,
   "id": "bfef3316-ab0d-4102-a8a6-c815637ac4b5",
   "metadata": {},
   "outputs": [],
   "source": [
    "# Import Libraries"
   ]
  },
  {
   "cell_type": "code",
   "execution_count": null,
   "id": "c74e8f29-52e3-4718-bf41-068b4b71a155",
   "metadata": {},
   "outputs": [],
   "source": [
    "import os\n",
    "from pathlib import Path\n",
    "import warnings\n",
    "warnings.filterwarnings('ignore')\n",
    "import numpy as np\n",
    "import pandas as pd\n",
    "import matplotlib.pyplot as plt\n",
    "import seaborn as sns\n",
    "sns.set(style='whitegrid')\n",
    "\n",
    "# Preprocessing & modeling\n",
    "from sklearn.model_selection import train_test_split, StratifiedKFold\n",
    "from sklearn.impute import SimpleImputer\n",
    "from sklearn.experimental import enable_iterative_imputer\n",
    "from sklearn.impute import IterativeImputer\n",
    "from sklearn.pipeline import Pipeline\n",
    "from sklearn.compose import ColumnTransformer\n",
    "from sklearn.preprocessing import StandardScaler, OneHotEncoder\n",
    "from sklearn.calibration import CalibratedClassifierCV\n",
    "from sklearn.metrics import roc_auc_score, accuracy_score, precision_score, recall_score, f1_score, brier_score_loss\n",
    "from sklearn.linear_model import LogisticRegression\n",
    "from sklearn.ensemble import RandomForestClassifier, IsolationForest\n",
    "import xgboost as xgb\n",
    "import lightgbm as lgb\n",
    "from imblearn.over_sampling import SMOTE\n",
    "from imblearn.pipeline import Pipeline as ImbPipeline\n",
    "import joblib\n",
    "\n",
    "# Unsupervised & explainability\n",
    "from sklearn.decomposition import PCA\n",
    "from sklearn.cluster import KMeans, AgglomerativeClustering\n",
    "import umap\n",
    "import shap\n",
    "\n",
    "# Deep learning autoencoder\n",
    "import tensorflow as tf\n",
    "from tensorflow import keras\n",
    "from tensorflow.keras import layers\n",
    "\n",
    "# Paths\n",
    "PROJECT_DIR = Path('.')\n",
    "DATA_DIR = PROJECT_DIR / 'data'\n",
    "MODEL_DIR = PROJECT_DIR / 'models' / 'save'\n",
    "DATA_DIR.mkdir(parents=True, exist_ok=True)\n",
    "MODEL_DIR.mkdir(parents=True, exist_ok=True)\n",
    "print('Model dir:', MODEL_DIR.resolve())"
   ]
  },
  {
   "cell_type": "code",
   "execution_count": null,
   "id": "1ec37da1-b39d-4a9b-8746-fa2595eecdfc",
   "metadata": {},
   "outputs": [],
   "source": [
    "# Load dataset"
   ]
  },
  {
   "cell_type": "code",
   "execution_count": null,
   "id": "689fb17a-d13d-44bc-a011-82f14f857f3f",
   "metadata": {},
   "outputs": [],
   "source": [
    "possible_files = ['framingham.csv', 'Framingham.csv', 'framingham_heart.csv', 'framingham_heart_study.csv']\n",
    "for f in possible_files:\n",
    "p = DATA_DIR / f\n",
    "if p.exists():\n",
    "df = pd.read_csv(p)\n",
    "print(f'Loaded {p.name} — shape:', df.shape)\n",
    "break\n",
    "else:\n",
    "raise FileNotFoundError(f\"No framingham csv found in {DATA_DIR}. Place the dataset file there with one of names: {possible_files}\")\n",
    "\n",
    "# quick overview\n",
    "print(df.columns.tolist())\n",
    "df.head()"
   ]
  },
  {
   "cell_type": "code",
   "execution_count": null,
   "id": "efe5da9f-b451-43f3-8bf9-1d414732850a",
   "metadata": {},
   "outputs": [],
   "source": [
    "print('Shape:', df.shape)\n",
    "print('\n",
    "Missing values per column:')\n",
    "print(df.isnull().sum())\n",
    "print('\n",
    "Target distribution:')\n",
    "print(df['TenYearCHD'].value_counts())"
   ]
  },
  {
   "cell_type": "code",
   "execution_count": null,
   "id": "ffb4a57f-45cb-41cf-a429-9033246b25d0",
   "metadata": {},
   "outputs": [],
   "source": [
    "# Feature engineering function"
   ]
  },
  {
   "cell_type": "code",
   "execution_count": null,
   "id": "99312013-436d-4fb8-b0a0-8d5658b8f362",
   "metadata": {},
   "outputs": [],
   "source": [
    "def engineer_features(df_in):\n",
    "df = df_in.copy()\n",
    "# pulse pressure\n",
    "if 'sysBP' in df.columns and 'diaBP' in df.columns:\n",
    "df['pulse_pressure'] = df['sysBP'] - df['diaBP']\n",
    "# BMI category\n",
    "if 'BMI' in df.columns:\n",
    "df['bmi_cat'] = pd.cut(df['BMI'], bins=[0,18.5,25,30,200], labels=['underweight','normal','overweight','obese'])\n",
    "# age decade\n",
    "if 'age' in df.columns:\n",
    "df['age_decade'] = (df['age']//10)*10\n",
    "# pack proxy\n",
    "if 'cigsPerDay' in df.columns:\n",
    "df['pack_proxy'] = df['cigsPerDay'] * df.get('smokingYears', 1)\n",
    "# Cast categories\n",
    "for c in ['bmi_cat','age_decade']:\n",
    "if c in df.columns:\n",
    "df[c] = df[c].astype('category')\n",
    "return df\n",
    "\n",
    "# Apply\n",
    "df = engineer_features(df)\n",
    "print('After engineering:', df.shape)"
   ]
  },
  {
   "cell_type": "code",
   "execution_count": null,
   "id": "6d970c7f-7d2d-495e-a26c-d65c39ecfc9f",
   "metadata": {},
   "outputs": [],
   "source": [
    "# Define feature lists and split"
   ]
  },
  {
   "cell_type": "code",
   "execution_count": null,
   "id": "276d046e-d992-4c4d-8b34-49385e361173",
   "metadata": {},
   "outputs": [],
   "source": [
    "TARGET = 'TenYearCHD'\n",
    "# Candidate features\n",
    "NUMERIC_FEATURES = ['age','cigsPerDay','totChol','sysBP','diaBP','BMI','heartRate','glucose','pulse_pressure','pack_proxy']\n",
    "CATEGORICAL_FEATURES = ['male','education','currentSmoker','BPMeds','prevalentStroke','prevalentHyp','diabetes','bmi_cat','age_decade']\n",
    "# Keep only existing\n",
    "NUMERIC_FEATURES = [c for c in NUMERIC_FEATURES if c in df.columns]\n",
    "CATEGORICAL_FEATURES = [c for c in CATEGORICAL_FEATURES if c in df.columns]\n",
    "FEATURES = NUMERIC_FEATURES + CATEGORICAL_FEATURES\n",
    "print('Numeric:', NUMERIC_FEATURES)\n",
    "print('Categorical:', CATEGORICAL_FEATURES)\n",
    "\n",
    "\n",
    "# Drop rows with no target\n",
    "df = df.dropna(subset=[TARGET])\n",
    "X = df[FEATURES]\n",
    "y = df[TARGET]\n",
    "\n",
    "\n",
    "# Train-test split stratified\n",
    "X_train, X_test, y_train, y_test = train_test_split(X, y, test_size=0.2, stratify=y, random_state=42)\n",
    "print('Train:', X_train.shape, 'Test:', X_test.shape)"
   ]
  },
  {
   "cell_type": "code",
   "execution_count": null,
   "id": "5aad5380-529c-464b-877f-87b973983185",
   "metadata": {},
   "outputs": [],
   "source": [
    "# Preprocessing pipelines"
   ]
  },
  {
   "cell_type": "code",
   "execution_count": null,
   "id": "fe977679-19f2-4755-b4ab-29edfb9e9541",
   "metadata": {},
   "outputs": [],
   "source": [
    "from sklearn.ensemble import RandomForestRegressor\n",
    "numeric_transformer = Pipeline(steps=[\n",
    "('imputer', IterativeImputer(random_state=0, estimator=RandomForestRegressor(n_estimators=10, random_state=0))),\n",
    "('scaler', StandardScaler())\n",
    "])\n",
    "\n",
    "categorical_transformer = Pipeline(steps=[\n",
    "('imputer', SimpleImputer(strategy='most_frequent')),\n",
    "('onehot', OneHotEncoder(handle_unknown='ignore'))\n",
    "])\n",
    "\n",
    "preprocessor = ColumnTransformer(transformers=[\n",
    "('num', numeric_transformer, NUMERIC_FEATURES),\n",
    "('cat', categorical_transformer, CATEGORICAL_FEATURES)\n",
    "])\n",
    "\n",
    "# Fit preprocessor on training data to allow downstream unsupervised transforms\n",
    "preprocessor.fit(X_train)\n",
    "# Transform full dataset for unsupervised steps\n",
    "X_full_trans = preprocessor.transform(X)\n",
    "print('Preprocessed feature matrix shape (sparse/array):', getattr(X_full_trans, 'shape', None))\n",
    "\n",
    "# Save preprocessor\n",
    "joblib.dump(preprocessor, MODEL_DIR / 'preprocessor.joblib')"
   ]
  },
  {
   "cell_type": "code",
   "execution_count": null,
   "id": "798d8a3d-f1da-4ea7-b196-d3b666f07acb",
   "metadata": {},
   "outputs": [],
   "source": [
    "# Build column names for transformed array"
   ]
  },
  {
   "cell_type": "code",
   "execution_count": null,
   "id": "e6468289-3f6e-4d53-8e9a-ec3dff5f30b4",
   "metadata": {},
   "outputs": [],
   "source": [
    "onehot_cols = []\n",
    "if 'cat' in preprocessor.named_transformers_:\n",
    "cat_transformer = preprocessor.named_transformers_['cat']\n",
    "if hasattr(cat_transformer['onehot'], 'get_feature_names_out'):\n",
    "onehot_cols = list(cat_transformer['onehot'].get_feature_names_out(CATEGORICAL_FEATURES))\n",
    "\n",
    "num_cols = NUMERIC_FEATURES\n",
    "all_cols = num_cols + onehot_cols\n",
    "\n",
    "# Convert to dense if sparse\n",
    "try:\n",
    "X_full_arr = X_full_trans.toarray()\n",
    "except Exception:\n",
    "X_full_arr = np.asarray(X_full_trans)\n",
    "\n",
    "X_full_df = pd.DataFrame(X_full_arr, columns=all_cols, index=df.index)\n",
    "print('X_full_df shape:', X_full_df.shape)"
   ]
  },
  {
   "cell_type": "code",
   "execution_count": null,
   "id": "c11bdbf4-bfec-43a9-b2d1-4ec4eb25d284",
   "metadata": {},
   "outputs": [],
   "source": [
    "# PCA for dimensionality reduction & explained variance plot"
   ]
  },
  {
   "cell_type": "code",
   "execution_count": null,
   "id": "24aee0d6-4a25-4b00-86f0-8207a1618b61",
   "metadata": {},
   "outputs": [],
   "source": [
    "pca = PCA(n_components=min(30, X_full_df.shape[1]))\n",
    "X_pca = pca.fit_transform(X_full_df)\n",
    "plt.figure(figsize=(8,4))\n",
    "plt.plot(np.cumsum(pca.explained_variance_ratio_)*100)\n",
    "plt.xlabel('n components')\n",
    "plt.ylabel('Cumulative explained variance (%)')\n",
    "plt.title('PCA cumulative explained variance')\n",
    "plt.grid(True)\n",
    "plt.show()\n",
    "\n",
    "# Save PCA\n",
    "joblib.dump(pca, MODEL_DIR / 'pca.joblib')"
   ]
  },
  {
   "cell_type": "code",
   "execution_count": null,
   "id": "e597a473-fb86-4fb9-a099-c73665fc4420",
   "metadata": {},
   "outputs": [],
   "source": [
    "# UMAP embedding for visualization"
   ]
  },
  {
   "cell_type": "code",
   "execution_count": null,
   "id": "31c167ee-2cda-41b4-bf83-1c5b70a83af9",
   "metadata": {},
   "outputs": [],
   "source": [
    "reducer = umap.UMAP(n_neighbors=30, min_dist=0.1, random_state=42)\n",
    "X_umap = reducer.fit_transform(X_full_df)\n",
    "\n",
    "plt.figure(figsize=(8,6))\n",
    "scatter = plt.scatter(X_umap[:,0], X_umap[:,1], c=df[TARGET], cmap='coolwarm', alpha=0.7)\n",
    "plt.title('UMAP embedding colored by TenYearCHD')\n",
    "plt.colorbar(scatter, label='TenYearCHD')\n",
    "plt.show()\n",
    "\n",
    "joblib.dump(reducer, MODEL_DIR / 'umap.joblib')"
   ]
  },
  {
   "cell_type": "code",
   "execution_count": null,
   "id": "04fa7f19-d1c9-419b-9270-a15129c0669d",
   "metadata": {},
   "outputs": [],
   "source": [
    "# Clustering (KMeans + Agglomerative) on PCA-reduced features"
   ]
  },
  {
   "cell_type": "code",
   "execution_count": null,
   "id": "500b145e-7bfa-450e-8cdf-27eda7060403",
   "metadata": {},
   "outputs": [],
   "source": [
    "# Use first k PCA components that explain ~90% variance (or 10 components)\n",
    "n_comp = min(10, X_pca.shape[1])\n",
    "X_pca_reduced = X_pca[:, :n_comp]\n",
    "\n",
    "kmeans = KMeans(n_clusters=4, random_state=42)\n",
    "km_labels = kmeans.fit_predict(X_pca_reduced)\n",
    "\n",
    "agg = AgglomerativeClustering(n_clusters=4)\n",
    "agg_labels = agg.fit_predict(X_pca_reduced)\n",
    "\n",
    "# Add to dataframe\n",
    "df['kmeans_cluster'] = km_labels\n",
    "df['agg_cluster'] = agg_labels\n",
    "\n",
    "# Visualize clusters on UMAP\n",
    "plt.figure(figsize=(12,5))\n",
    "plt.subplot(1,2,1)\n",
    "plt.scatter(X_umap[:,0], X_umap[:,1], c=km_labels, cmap='tab10', alpha=0.8)\n",
    "plt.title('UMAP colored by KMeans cluster')\n",
    "plt.subplot(1,2,2)\n",
    "plt.scatter(X_umap[:,0], X_umap[:,1], c=agg_labels, cmap='tab10', alpha=0.8)\n",
    "plt.title('UMAP colored by Agglomerative cluster')\n",
    "plt.show()\n",
    "\n",
    "# Cluster risk profiling\n",
    "cluster_summary = df.groupby('kmeans_cluster')[TARGET].agg(['mean','count']).rename(columns={'mean':'risk_rate'})\n",
    "print('Cluster summary (KMeans):')\n",
    "print(cluster_summary)\n",
    "\n",
    "joblib.dump(kmeans, MODEL_DIR / 'kmeans.joblib')"
   ]
  },
  {
   "cell_type": "code",
   "execution_count": null,
   "id": "44e40464-c85e-4cd0-acf2-8341cf88142d",
   "metadata": {},
   "outputs": [],
   "source": [
    "# Anomaly detection with IsolationForest"
   ]
  },
  {
   "cell_type": "code",
   "execution_count": null,
   "id": "0dad5d9a-fa10-465d-a350-467232b9972f",
   "metadata": {},
   "outputs": [],
   "source": [
    "iso = IsolationForest(n_estimators=200, contamination=0.02, random_state=42)\n",
    "iso.fit(X_full_df)\n",
    "iso_scores = -iso.decision_function(X_full_df) # higher = more anomalous\n",
    "df['iso_score'] = iso_scores\n",
    "\n",
    "plt.figure(figsize=(8,4))\n",
    "plt.hist(iso_scores, bins=50)\n",
    "plt.title('IsolationForest anomaly score distribution')\n",
    "plt.xlabel('anomaly score (higher=more anomalous)')\n",
    "plt.show()\n",
    "\n",
    "# Flag top anomalies\n",
    "top_anom = df.nlargest(20, 'iso_score')\n",
    "print('Top anomalous records (index, iso_score):')\n",
    "print(top_anom[['iso_score', TARGET]].head(10))\n",
    "\n",
    "joblib.dump(iso, MODEL_DIR / 'isolationforest.joblib')"
   ]
  },
  {
   "cell_type": "code",
   "execution_count": null,
   "id": "b6a9c918-e752-41f4-8ae0-a08e18d2708d",
   "metadata": {},
   "outputs": [],
   "source": []
  }
 ],
 "metadata": {
  "kernelspec": {
   "display_name": "Python [conda env:base] *",
   "language": "python",
   "name": "conda-base-py"
  },
  "language_info": {
   "codemirror_mode": {
    "name": "ipython",
    "version": 3
   },
   "file_extension": ".py",
   "mimetype": "text/x-python",
   "name": "python",
   "nbconvert_exporter": "python",
   "pygments_lexer": "ipython3",
   "version": "3.12.7"
  }
 },
 "nbformat": 4,
 "nbformat_minor": 5
}
